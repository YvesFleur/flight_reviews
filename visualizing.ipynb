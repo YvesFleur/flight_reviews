{
 "cells": [
  {
   "cell_type": "markdown",
   "metadata": {},
   "source": [
    "## Identifying entiment polarity\n",
    "\n",
    "I used a package called 'textblod' to identify sentiment polarity from above reviews\n",
    "\n",
    "### Visualizing entiment polarity of reviews\n",
    "The goal of this task is to show viewers how much đid the British Airways satisfy their customer based on the web reviews.\n",
    "Based on the dividion as positive, neutral and negative "
   ]
  },
  {
   "cell_type": "code",
   "execution_count": null,
   "metadata": {},
   "outputs": [],
   "source": [
    "feedback_df = pd.read_csv('BA_reviews.csv')\n",
    "feedback_df['sentiment'] = feedback_df['reviews'].apply(lambda x: TextBlob(x).sentiment.polarity)\n",
    "\n",
    "plt.figure(figsize=(8, 6))\n",
    "sns.scatterplot(x='sentiment', y='reviews', data=feedback_df, palette='coolwarm')\n",
    "plt.title('Sentiment Analysis of Feedback')\n",
    "plt.xlabel('Sentiment Polarity')\n",
    "plt.ylabel('Reviews')\n",
    "plt.show()"
   ]
  },
  {
   "cell_type": "code",
   "execution_count": null,
   "metadata": {},
   "outputs": [],
   "source": [
    "num_negative = len(feedback_df[feedback_df['sentiment'] < -0.2])\n",
    "num_neutral = len(feedback_df[(feedback_df['sentiment'] >= -0.2) & (feedback_df['sentiment'] <= 0.2)])\n",
    "num_positive = len(feedback_df[feedback_df['sentiment'] > 0.2])\n",
    "\n",
    "total_feedback = len(feedback_df)\n",
    "negative_percent = (num_negative / total_feedback) * 100\n",
    "neutral_percent = (num_neutral / total_feedback) * 100\n",
    "positive_percent = (num_positive / total_feedback) * 100\n",
    "\n",
    "print(f\"Negative feedback: {negative_percent:.2f}%\")\n",
    "print(f\"Neutral feedback: {neutral_percent:.2f}%\")\n",
    "print(f\"Positive feedback: {positive_percent:.2f}%\")"
   ]
  }
 ],
 "metadata": {
  "language_info": {
   "name": "python"
  }
 },
 "nbformat": 4,
 "nbformat_minor": 2
}
